{
 "cells": [
  {
   "cell_type": "markdown",
   "id": "cf77f3a3",
   "metadata": {},
   "source": [
    "# QUESTÃO DE NEGÓCIO\n",
    "\n",
    "- Foi nos requisitado por um CFO de uma rede de farmácias, a previsão de vendas de todas as lojas pelas proximas 6 semanas, onde ele deseja saber quando deve ser investido em cada uma delas para realizar uma reforma nas lojas."
   ]
  },
  {
   "cell_type": "markdown",
   "id": "7eb8fa04",
   "metadata": {},
   "source": [
    "# 0.0 Imports"
   ]
  },
  {
   "cell_type": "code",
   "execution_count": 1,
   "id": "9489ce7e",
   "metadata": {
    "ExecuteTime": {
     "end_time": "2023-05-30T22:05:21.896588Z",
     "start_time": "2023-05-30T22:05:20.255748Z"
    }
   },
   "outputs": [],
   "source": [
    "import pandas as pd\n",
    "import numpy as np\n",
    "import inflection\n",
    "import math\n",
    "import seaborn as sns\n",
    "\n",
    "from sklearn.preprocessing import RobustScaler, MinMaxScaler\n",
    "from scipy import stats as ss\n",
    "from matplotlib import pyplot as plt\n",
    "from IPython.core.display import HTML\n",
    "from IPython.display import Image\n",
    "from sklearn.preprocessing import RobustScaler, MinMaxScaler, LabelEncoder"
   ]
  },
  {
   "cell_type": "markdown",
   "id": "2e58192a",
   "metadata": {},
   "source": [
    "## 0.1 Helper Fuctions"
   ]
  },
  {
   "cell_type": "code",
   "execution_count": 2,
   "id": "67449536",
   "metadata": {
    "ExecuteTime": {
     "end_time": "2023-05-30T22:05:21.907277Z",
     "start_time": "2023-05-30T22:05:21.898233Z"
    }
   },
   "outputs": [],
   "source": [
    "def jupyter_settings(): \n",
    "    %matplotlib inline \n",
    "    %pylab inline\n",
    "    \n",
    "    plt.style.use( 'bmh' )\n",
    "    plt.rcParams['figure.figsize'] = [25, 12]\n",
    "    plt.rcParams['font.size'] = 24\n",
    "    \n",
    "    display( HTML( '<style>.container { width:100% !important; }</style>') ) \n",
    "    pd.options.display.max_columns = None\n",
    "    pd.options.display.max_rows = None\n",
    "    pd.set_option( 'display.expand_frame_repr', False )\n",
    "    \n",
    "    sns.set()\n",
    "    \n",
    "def cramer_v( x, y ):\n",
    "    cm = pd.crosstab( x, y ).as_matrix() \n",
    "    n = cm.sum()\n",
    "    r, k = cm.shape\n",
    "    \n",
    "    chi2 = ss.chi2_contingency( cm )[0]\n",
    "    chi2corr = max( 0, chi2 - (k-1)*(r-1)/(n-1) )\n",
    "    \n",
    "    kcorr = k - (k-1)**2/(n-1)\n",
    "    rcorr = r - (r-1)**2/(n-1)\n",
    "    \n",
    "    return np.sqrt( (chi2corr/n) / ( min( kcorr-1, rcorr-1 ) ) )\n"
   ]
  },
  {
   "cell_type": "code",
   "execution_count": 3,
   "id": "3de918be",
   "metadata": {
    "ExecuteTime": {
     "end_time": "2023-05-30T22:05:21.927083Z",
     "start_time": "2023-05-30T22:05:21.910291Z"
    }
   },
   "outputs": [],
   "source": [
    "jupyter_settings()"
   ]
  },
  {
   "cell_type": "markdown",
   "id": "c48ecaba",
   "metadata": {},
   "source": [
    "## 0.2 Loading Data"
   ]
  },
  {
   "cell_type": "code",
   "execution_count": 4,
   "id": "cfc8050e",
   "metadata": {
    "ExecuteTime": {
     "end_time": "2023-05-30T22:05:22.951944Z",
     "start_time": "2023-05-30T22:05:21.928768Z"
    }
   },
   "outputs": [],
   "source": [
    "df_sales_raw = pd.read_csv('data/train.csv', low_memory=False)\n",
    "df_store_raw = pd.read_csv('data/store.csv', low_memory=False)\n",
    "\n",
    "# merge\n",
    "df_raw = pd.merge(df_sales_raw, df_store_raw, how='left', on='Store')"
   ]
  },
  {
   "cell_type": "code",
   "execution_count": 5,
   "id": "1da19c17",
   "metadata": {
    "ExecuteTime": {
     "end_time": "2023-05-30T22:05:22.969467Z",
     "start_time": "2023-05-30T22:05:22.953844Z"
    },
    "scrolled": true
   },
   "outputs": [],
   "source": [
    "df_raw.head()"
   ]
  },
  {
   "cell_type": "markdown",
   "id": "cdf4f181",
   "metadata": {},
   "source": [
    "# 1.0 Descrição dos Dados"
   ]
  },
  {
   "cell_type": "code",
   "execution_count": 6,
   "id": "7e5db40f",
   "metadata": {
    "ExecuteTime": {
     "end_time": "2023-05-30T22:05:23.181952Z",
     "start_time": "2023-05-30T22:05:22.971255Z"
    }
   },
   "outputs": [],
   "source": [
    "df = df_raw.copy()"
   ]
  },
  {
   "cell_type": "markdown",
   "id": "2bb582a9",
   "metadata": {},
   "source": [
    "## 1.1 Rename Columns"
   ]
  },
  {
   "cell_type": "code",
   "execution_count": 7,
   "id": "51d8766a",
   "metadata": {
    "ExecuteTime": {
     "end_time": "2023-05-30T22:05:23.187210Z",
     "start_time": "2023-05-30T22:05:23.183572Z"
    }
   },
   "outputs": [],
   "source": [
    "df.columns"
   ]
  },
  {
   "cell_type": "code",
   "execution_count": 8,
   "id": "36dfea94",
   "metadata": {
    "ExecuteTime": {
     "end_time": "2023-05-30T22:05:23.192773Z",
     "start_time": "2023-05-30T22:05:23.188669Z"
    }
   },
   "outputs": [],
   "source": [
    "cols_old = ['Store', 'DayOfWeek', 'Date', 'Sales', 'Customers', 'Open', 'Promo','StateHoliday', \n",
    "            'SchoolHoliday', 'StoreType', 'Assortment', 'CompetitionDistance', 'CompetitionOpenSinceMonth',\n",
    "            'CompetitionOpenSinceYear', 'Promo2', 'Promo2SinceWeek', 'Promo2SinceYear', 'PromoInterval']\n",
    "\n",
    "snakecase = lambda x: inflection.underscore(x)\n",
    "cols_new = list(map(snakecase, cols_old))\n",
    "\n",
    "df.columns = cols_new"
   ]
  },
  {
   "cell_type": "markdown",
   "id": "e3760aee",
   "metadata": {},
   "source": [
    "## 1.2 Data Dimensions"
   ]
  },
  {
   "cell_type": "code",
   "execution_count": 9,
   "id": "beea9cf4",
   "metadata": {
    "ExecuteTime": {
     "end_time": "2023-05-30T22:05:23.200619Z",
     "start_time": "2023-05-30T22:05:23.197949Z"
    }
   },
   "outputs": [],
   "source": [
    "print('Number of Rows: {}'.format(df.shape[0]))\n",
    "print('Number of Cols: {}'.format(df.shape[1]))"
   ]
  },
  {
   "cell_type": "markdown",
   "id": "4cdf2136",
   "metadata": {},
   "source": [
    "## 1.3 Data Types"
   ]
  },
  {
   "cell_type": "code",
   "execution_count": 10,
   "id": "80002a85",
   "metadata": {
    "ExecuteTime": {
     "end_time": "2023-05-30T22:05:23.332891Z",
     "start_time": "2023-05-30T22:05:23.202669Z"
    }
   },
   "outputs": [],
   "source": [
    "# object to datetime 'date' column\n",
    "df['date'] = pd.to_datetime(df['date'])\n",
    "df.dtypes"
   ]
  },
  {
   "cell_type": "markdown",
   "id": "0b6002be",
   "metadata": {},
   "source": [
    "## 1.4 Check NA's"
   ]
  },
  {
   "cell_type": "code",
   "execution_count": 11,
   "id": "0d1c7705",
   "metadata": {
    "ExecuteTime": {
     "end_time": "2023-05-30T22:06:10.195911Z",
     "start_time": "2023-05-30T22:05:23.335065Z"
    },
    "scrolled": false
   },
   "outputs": [],
   "source": [
    "# competition_distance\n",
    "df['competition_distance'] = df['competition_distance'].apply (lambda x: 200000.0 if math.isnan(x) else x)\n",
    "\n",
    "# competition_open_since_month\n",
    "df['competition_open_since_month'] = df.apply (lambda x: x['date'].month if math.isnan(x['competition_open_since_month']) else x['competition_open_since_month'], axis=1)\n",
    "\n",
    "# competition_open_since_year\n",
    "df['competition_open_since_year'] = df.apply (lambda x: x['date'].year if math.isnan(x['competition_open_since_year']) else x['competition_open_since_year'], axis=1)\n",
    "\n",
    "# promo2_since_week\n",
    "df['promo2_since_week'] = df.apply (lambda x: x['date'].week if math.isnan(x['promo2_since_week']) else x['promo2_since_week'], axis=1)\n",
    "\n",
    "# promo2_since_year\n",
    "df['promo2_since_year'] = df.apply (lambda x: x['date'].year if math.isnan(x['promo2_since_year']) else x['promo2_since_year'], axis=1)\n",
    "\n",
    "# promo interval\n",
    "month_map = {1: 'Jan', 2: 'Feb', 3: 'Mar', 4: 'Apr', 5: 'May', 6: 'Jun', 7: 'Jul', 8: 'Aug', 9: 'Sept', 10: 'Oct', 11: 'Nov', 12: 'Dec'}\n",
    "\n",
    "df['promo_interval'].fillna(0, inplace=True)\n",
    "\n",
    "df['month_map'] = df['date'].dt.month.map(month_map)\n",
    "df['is_promo'] = df[['promo_interval', 'month_map']].apply (lambda x: 0 if x['promo_interval'] == 0 else 1 if x['month_map'] in x['promo_interval'].split (',') else 0, axis=1)"
   ]
  },
  {
   "cell_type": "markdown",
   "id": "3c9fb92d",
   "metadata": {},
   "source": [
    "## 1.6 Change types"
   ]
  },
  {
   "cell_type": "code",
   "execution_count": 12,
   "id": "94be6651",
   "metadata": {
    "ExecuteTime": {
     "end_time": "2023-05-30T22:06:10.215474Z",
     "start_time": "2023-05-30T22:06:10.197428Z"
    }
   },
   "outputs": [],
   "source": [
    "df['competition_open_since_month'] = df['competition_open_since_month'].astype(int)\n",
    "df['competition_open_since_year'] = df['competition_open_since_year'].astype(int)\n",
    "df['competition_distance'] = df['competition_distance'].astype(int)\n",
    "\n",
    "df['promo2_since_week'] = df['promo2_since_week'].astype(int)\n",
    "df['promo2_since_year'] = df['promo2_since_year'].astype(int)"
   ]
  },
  {
   "cell_type": "markdown",
   "id": "ea4790aa",
   "metadata": {},
   "source": [
    "## 1.7 Descriptive Statistical"
   ]
  },
  {
   "cell_type": "code",
   "execution_count": 13,
   "id": "5b083195",
   "metadata": {
    "ExecuteTime": {
     "end_time": "2023-05-30T22:06:10.432848Z",
     "start_time": "2023-05-30T22:06:10.216993Z"
    }
   },
   "outputs": [],
   "source": [
    "# numerical attributes\n",
    "num_attributes = df.select_dtypes (include=['int64', 'float64'])\n",
    "\n",
    "# categorical attributes\n",
    "cat_attributes = df.select_dtypes (exclude=['int64', 'float64', 'datetime64[ns]'])"
   ]
  },
  {
   "cell_type": "markdown",
   "id": "8210f6a1",
   "metadata": {},
   "source": [
    "### 1.7.1 Numerical attributes"
   ]
  },
  {
   "cell_type": "code",
   "execution_count": 14,
   "id": "e41b8d61",
   "metadata": {
    "ExecuteTime": {
     "end_time": "2023-05-30T22:06:10.707004Z",
     "start_time": "2023-05-30T22:06:10.434352Z"
    },
    "scrolled": true
   },
   "outputs": [],
   "source": [
    "# central tendency - mean, median\n",
    "ct1 = pd.DataFrame(num_attributes.apply(np.mean)).T\n",
    "ct2 = pd.DataFrame(num_attributes.apply(np.median)).T\n",
    "\n",
    "# dispersion - std, min, max, range, skew, kurtosis\n",
    "d1 = pd.DataFrame(num_attributes.apply(np.std)).T\n",
    "d2 = pd.DataFrame(num_attributes.apply(np.min)).T\n",
    "d3 = pd.DataFrame(num_attributes.apply(np.max)).T\n",
    "d4 = pd.DataFrame(num_attributes.apply( lambda x: x.max() - x.min())).T\n",
    "d5 = pd.DataFrame(num_attributes.apply( lambda x: x.skew())).T\n",
    "d6 = pd.DataFrame(num_attributes.apply( lambda x: x.kurtosis())).T\n",
    "\n",
    "# concat\n",
    "m = pd.concat([d2, d3, d4, ct1, ct2, d1, d5, d6]).T.reset_index()\n",
    "m.columns = ['attributes', 'min', 'max', 'range', 'mean', 'median', 'std', 'skew', 'kurtosis']"
   ]
  },
  {
   "cell_type": "code",
   "execution_count": 15,
   "id": "590da7bb",
   "metadata": {
    "ExecuteTime": {
     "end_time": "2023-05-30T22:06:13.552061Z",
     "start_time": "2023-05-30T22:06:10.708683Z"
    },
    "scrolled": true
   },
   "outputs": [],
   "source": [
    "sns.displot(df['competition_distance'], kde=False)"
   ]
  },
  {
   "cell_type": "markdown",
   "id": "cc74b088",
   "metadata": {},
   "source": [
    "### 1.7.2 Categorical attributes"
   ]
  },
  {
   "cell_type": "code",
   "execution_count": 16,
   "id": "77973bb7",
   "metadata": {
    "ExecuteTime": {
     "end_time": "2023-05-30T22:06:13.787530Z",
     "start_time": "2023-05-30T22:06:13.553855Z"
    }
   },
   "outputs": [],
   "source": [
    "cat_attributes.apply(lambda x: x.unique().shape[0])"
   ]
  },
  {
   "cell_type": "code",
   "execution_count": 17,
   "id": "a0546f8f",
   "metadata": {
    "ExecuteTime": {
     "end_time": "2023-05-30T22:06:14.508924Z",
     "start_time": "2023-05-30T22:06:13.789156Z"
    }
   },
   "outputs": [],
   "source": [
    "aux = df[(df['state_holiday'] !='0') & (df['sales'] > 0)]\n",
    "\n",
    "plt.subplot(1, 3, 1)\n",
    "sns.boxplot (x='state_holiday', y='sales', data=aux)\n",
    "\n",
    "plt.subplot(1, 3, 2)\n",
    "sns.boxplot (x='store_type', y='sales', data=aux)\n",
    "\n",
    "plt.subplot(1, 3, 3)\n",
    "sns.boxplot (x='assortment', y='sales', data=aux)"
   ]
  },
  {
   "cell_type": "markdown",
   "id": "49d71741",
   "metadata": {},
   "source": [
    "# 2.0 Feature Engineering"
   ]
  },
  {
   "cell_type": "code",
   "execution_count": 18,
   "id": "2ef87064",
   "metadata": {
    "ExecuteTime": {
     "end_time": "2023-05-30T22:06:14.742514Z",
     "start_time": "2023-05-30T22:06:14.510713Z"
    }
   },
   "outputs": [],
   "source": [
    "df2 = df.copy()"
   ]
  },
  {
   "cell_type": "markdown",
   "id": "f31b87a0",
   "metadata": {},
   "source": [
    "## 2.1 Mapa mental de hipoteses"
   ]
  },
  {
   "cell_type": "code",
   "execution_count": 19,
   "id": "e667144c",
   "metadata": {
    "ExecuteTime": {
     "end_time": "2023-05-30T22:06:14.759743Z",
     "start_time": "2023-05-30T22:06:14.744229Z"
    }
   },
   "outputs": [],
   "source": [
    "Image('img/mind_map.png')"
   ]
  },
  {
   "cell_type": "markdown",
   "id": "df76b3cc",
   "metadata": {},
   "source": [
    "## 2.2 Lista final de hipoteses"
   ]
  },
  {
   "cell_type": "markdown",
   "id": "41ece44d",
   "metadata": {},
   "source": [
    "1. Lojas com maior sortimentos deveriam vender mais.\n",
    "2. Lojas com competidores mais próximos deveriam vender menos.\n",
    "3. Lojas com competidores à mais tempo deveriam vendem mais.\n",
    "4. Lojas com promoções ativas por mais tempo deveriam vender mais.\n",
    "5. Lojas com mais dias de promoção deveriam vender mais.\n",
    "7. Lojas com mais promoções consecutivas deveriam vender mais. \n",
    "8. Lojas abertas durante o feriado de Natal deveriam vender mais. \n",
    "9. Lojas deveriam vender mais ao longo dos anos.\n",
    "10. Lojas deveriam vender mais no segundo semestre do ano.\n",
    "11. Lojas deveriam vender mais depois do dia 10 de cada mês.\n",
    "12. Lojas deveriam vender menos aos finais de semana.\n",
    "13. Lojas deveriam vender menos durante os feriados escolares."
   ]
  },
  {
   "cell_type": "markdown",
   "id": "c1e90231",
   "metadata": {},
   "source": [
    "## 2.3 Feature Engineering"
   ]
  },
  {
   "cell_type": "code",
   "execution_count": 20,
   "id": "f004a0a6",
   "metadata": {
    "ExecuteTime": {
     "end_time": "2023-05-30T22:06:49.648509Z",
     "start_time": "2023-05-30T22:06:14.761526Z"
    }
   },
   "outputs": [],
   "source": [
    "# year \n",
    "df2['year'] = df2['date'].dt.year\n",
    "\n",
    "# month\n",
    "df2['month'] = df2['date'].dt.month\n",
    "\n",
    "# day \n",
    "df2['day'] = df2['date'].dt.day\n",
    "\n",
    "# week of year\n",
    "df2['week_of_year'] = df2['date'].dt.isocalendar().week\n",
    "\n",
    "# year week\n",
    "df2['year_week'] = df2['date'].dt.strftime('%Y-%W-')\n",
    "\n",
    "# competition since\n",
    "df2['competition_since'] = df2.apply(lambda x: datetime.datetime(year= x['competition_open_since_year'], month= x['competition_open_since_month'],day=1), axis=1)\n",
    "df2['competition_time_month'] = (( df2['date'] - df2['competition_since'])/30).apply(lambda x: x.days).astype( int )\n",
    "\n",
    "# promo since\n",
    "df2['promo_since'] = df2['promo2_since_year'].astype( str ) + '-' + df2['promo2_since_week'].astype( str )\n",
    "df2['promo_since'] = df2['promo_since'].apply( lambda x: datetime.datetime.strptime(x + '-1', '%Y-%W-%w') - datetime.timedelta(days=7))\n",
    "df2['promo_time_week'] = ((df2['date'] - df2['promo_since'])/7).apply(lambda x: x.days).astype( int )\n",
    "\n",
    "# assortment\n",
    "df2['assortment'] = df2['assortment'].apply( lambda x: 'basic' if x == 'a' else 'extra' if x == 'b' else 'extended' )\n",
    "\n",
    "# state holiday\n",
    "df2['state_holiday'] = df2['state_holiday'].apply( lambda x: 'public_holiday' if x == 'a' else 'easter_holiday' if x == 'b' else 'christmas' if x == 'c' else 'regular_day')"
   ]
  },
  {
   "cell_type": "markdown",
   "id": "28f89010",
   "metadata": {},
   "source": [
    "# 3.0 Filtragem das Variáveis"
   ]
  },
  {
   "cell_type": "code",
   "execution_count": 21,
   "id": "472dba76",
   "metadata": {
    "ExecuteTime": {
     "end_time": "2023-05-30T22:06:49.955451Z",
     "start_time": "2023-05-30T22:06:49.650901Z"
    }
   },
   "outputs": [],
   "source": [
    "df3 = df2.copy()"
   ]
  },
  {
   "cell_type": "markdown",
   "id": "41106cb1",
   "metadata": {},
   "source": [
    "## 3.1 Filtragem das linhas"
   ]
  },
  {
   "cell_type": "code",
   "execution_count": 22,
   "id": "aaf4bc35",
   "metadata": {
    "ExecuteTime": {
     "end_time": "2023-05-30T22:06:50.083774Z",
     "start_time": "2023-05-30T22:06:49.957063Z"
    }
   },
   "outputs": [],
   "source": [
    "df3 = df3[(df3['open'] != 0) & (df3['sales'] > 0)]"
   ]
  },
  {
   "cell_type": "markdown",
   "id": "81d83de0",
   "metadata": {},
   "source": [
    "## 3.2 Seleção das colunas"
   ]
  },
  {
   "cell_type": "code",
   "execution_count": 23,
   "id": "e8961e62",
   "metadata": {
    "ExecuteTime": {
     "end_time": "2023-05-30T22:06:50.186080Z",
     "start_time": "2023-05-30T22:06:50.085468Z"
    }
   },
   "outputs": [],
   "source": [
    "cols_drop = ['customers', 'open', 'promo_interval', 'month_map']\n",
    "df3 = df3.drop( cols_drop, axis=1 )"
   ]
  },
  {
   "cell_type": "markdown",
   "id": "2faa8bbb",
   "metadata": {},
   "source": [
    "# 4.0 Análise Exploratória"
   ]
  },
  {
   "cell_type": "code",
   "execution_count": 24,
   "id": "49108f04",
   "metadata": {
    "ExecuteTime": {
     "end_time": "2023-05-30T22:06:50.224090Z",
     "start_time": "2023-05-30T22:06:50.187612Z"
    }
   },
   "outputs": [],
   "source": [
    "df4 = df3.copy()"
   ]
  },
  {
   "cell_type": "markdown",
   "id": "432e56f7",
   "metadata": {},
   "source": [
    "## 4.1 Analise Univariada"
   ]
  },
  {
   "cell_type": "markdown",
   "id": "563e0abb",
   "metadata": {},
   "source": [
    "### 4.1.1 Response Variable"
   ]
  },
  {
   "cell_type": "code",
   "execution_count": 25,
   "id": "da2b4fc3",
   "metadata": {
    "ExecuteTime": {
     "end_time": "2023-05-30T22:06:52.204097Z",
     "start_time": "2023-05-30T22:06:50.225732Z"
    },
    "hide_input": true
   },
   "outputs": [],
   "source": [
    "sns.displot( df4['sales'], kde=False )"
   ]
  },
  {
   "cell_type": "markdown",
   "id": "11c2726c",
   "metadata": {
    "hide_input": false
   },
   "source": [
    "### 4.1.2 Numerical Variable"
   ]
  },
  {
   "cell_type": "code",
   "execution_count": 26,
   "id": "2bcde160",
   "metadata": {
    "ExecuteTime": {
     "end_time": "2023-05-30T22:06:55.710375Z",
     "start_time": "2023-05-30T22:06:52.206607Z"
    },
    "hide_input": true,
    "scrolled": true
   },
   "outputs": [],
   "source": [
    "num_attributes.hist(bins=25);"
   ]
  },
  {
   "cell_type": "markdown",
   "id": "b58fadaf",
   "metadata": {},
   "source": [
    "### 4.1.3 Categorical Variable"
   ]
  },
  {
   "cell_type": "code",
   "execution_count": 27,
   "id": "47156ffe",
   "metadata": {
    "ExecuteTime": {
     "end_time": "2023-05-30T22:07:04.538614Z",
     "start_time": "2023-05-30T22:06:55.717236Z"
    },
    "hide_input": true,
    "scrolled": false
   },
   "outputs": [],
   "source": [
    "# Converta as colunas para o tipo 'category'\n",
    "\n",
    "df4['state_holiday'] = df4['state_holiday'].astype('category')\n",
    "df4['store_type'] = df4['store_type'].astype('category')\n",
    "df4['assortment'] = df4['assortment'].astype('category')\n",
    "\n",
    "# state_holiday\n",
    "plt.subplot(3, 2, 1)\n",
    "sns.countplot(data=df4, x='state_holiday', hue='state_holiday')\n",
    "\n",
    "plt.subplot(3, 2, 2)\n",
    "for holiday in df4['state_holiday'].unique():\n",
    "    subset = df4[df4['state_holiday'] == holiday]['sales']\n",
    "    sns.kdeplot(subset, label=holiday, fill=True)\n",
    "    \n",
    "plt.xlabel('sales')\n",
    "plt.ylabel('Density')\n",
    "\n",
    "# store_type\n",
    "plt.subplot(3, 2, 3)\n",
    "sns.countplot(data=df4, x='store_type')\n",
    "\n",
    "plt.subplot(3, 2, 4)\n",
    "for store_type in df4['store_type'].unique():\n",
    "    subset = df4[df4['store_type'] == store_type]['sales']\n",
    "    sns.kdeplot(subset, label=store_type, fill=True)\n",
    "\n",
    "plt.xlabel('sales')\n",
    "plt.ylabel('Density')\n",
    "\n",
    "# assortment\n",
    "plt.subplot(3, 2, 5)\n",
    "sns.countplot(data=df4, x='assortment')\n",
    "\n",
    "plt.subplot(3, 2, 6)\n",
    "for assortment in df4['assortment'].unique():\n",
    "    subset = df4[df4['assortment'] == assortment]['sales']\n",
    "    sns.kdeplot(subset, label=assortment, fill=True)\n",
    "\n",
    "plt.xlabel('sales')\n",
    "plt.ylabel('Density')\n",
    "\n",
    "plt.tight_layout()\n",
    "plt.show()"
   ]
  },
  {
   "cell_type": "markdown",
   "id": "daf5b2e4",
   "metadata": {},
   "source": [
    "## 4.2 Analise Bivariada"
   ]
  },
  {
   "cell_type": "markdown",
   "id": "c0b9e8bb",
   "metadata": {},
   "source": [
    "### H1. Lojas com maior sortimentos deveriam vender mais.\n",
    "\n",
    "**FALSO** Lojas com maior sortimento vendem menos."
   ]
  },
  {
   "cell_type": "code",
   "execution_count": 28,
   "id": "06a1ab36",
   "metadata": {
    "ExecuteTime": {
     "end_time": "2023-05-30T22:07:05.475867Z",
     "start_time": "2023-05-30T22:07:04.540275Z"
    },
    "hide_input": false
   },
   "outputs": [],
   "source": [
    "aux1 = df4[['assortment', 'sales']].groupby('assortment').sum().reset_index()\n",
    "sns.barplot(x= 'assortment', y= 'sales', data=aux1 );\n",
    "\n",
    "aux2 = df4[['year_week','assortment', 'sales']].groupby(['year_week', 'assortment']).sum().reset_index()\n",
    "aux2.pivot(index= 'year_week', columns= 'assortment', values= 'sales').plot()\n",
    "\n",
    "aux3 = aux2[aux2['assortment'] == 'extended']\n",
    "aux3.pivot(index= 'year_week', columns= 'assortment', values= 'sales').plot()"
   ]
  },
  {
   "cell_type": "markdown",
   "id": "cc800955",
   "metadata": {},
   "source": [
    "### H2. Lojas com competidores mais próximos deveriam vender menos.\n",
    "- **FALSA** Lojas com competidores mais proximos vendem mais."
   ]
  },
  {
   "cell_type": "code",
   "execution_count": 29,
   "id": "95b0a6b7",
   "metadata": {
    "ExecuteTime": {
     "end_time": "2023-05-30T22:07:06.220101Z",
     "start_time": "2023-05-30T22:07:05.477520Z"
    },
    "hide_input": false
   },
   "outputs": [],
   "source": [
    "aux1 = df4[['competition_distance', 'sales']].groupby( 'competition_distance' ).sum().reset_index()\n",
    "\n",
    "plt.subplot( 1, 3, 1 )\n",
    "sns.scatterplot( x ='competition_distance', y='sales', data=aux1 );\n",
    "\n",
    "plt.subplot( 1, 3, 2 )\n",
    "bins = list( np.arange( 0, 20000, 1000) )\n",
    "aux1['competition_distance_binned'] = pd.cut( aux1['competition_distance'], bins=bins )\n",
    "\n",
    "aux2 = aux1[['competition_distance_binned', 'sales']].groupby('competition_distance_binned' ).sum().reset_index()\n",
    "sns.barplot( x='competition_distance_binned', y='sales', data=aux2 );\n",
    "plt.xticks( rotation=90 );"
   ]
  },
  {
   "cell_type": "markdown",
   "id": "a4580e0e",
   "metadata": {},
   "source": [
    "### H3. Lojas com competidores à mais tempo deveriam vendem mais.\n",
    "- **FALSA** Lojas com COMPETIDORES À MAIS TEMPO vendem MENOS."
   ]
  },
  {
   "cell_type": "code",
   "execution_count": 30,
   "id": "0a3c5525",
   "metadata": {
    "ExecuteTime": {
     "end_time": "2023-05-30T22:07:09.001729Z",
     "start_time": "2023-05-30T22:07:06.221675Z"
    }
   },
   "outputs": [],
   "source": [
    "plt.subplot(1, 3, 1)\n",
    "aux1 = df4[['competition_time_month', 'sales']].groupby('competition_time_month').sum().reset_index()\n",
    "\n",
    "aux2 = aux1[( aux1['competition_time_month'] < 120 ) & (aux1['competition_time_month'] != 0 )]\n",
    "sns.barplot( x='competition_time_month', y='sales', data=aux2 ); \n",
    "plt.xticks( rotation=90 );\n",
    "\n",
    "plt.subplot( 1, 3, 2 )\n",
    "sns.regplot( x='competition_time_month', y='sales', data=aux2 );\n",
    "\n",
    "plt.subplot( 1, 3, 3 )\n",
    "x = sns.heatmap( aux1.corr( method='pearson'), annot=True );"
   ]
  },
  {
   "cell_type": "markdown",
   "id": "39b8eaaf",
   "metadata": {},
   "source": [
    "### H4. Lojas com promoções ativas por mais tempo deveriam vender mais.\n",
    "- **FALSA** Lojas com promoções ativas por mais tempo vendem menos, depois de um certo periodo de promoção."
   ]
  },
  {
   "cell_type": "code",
   "execution_count": 31,
   "id": "4b17052a",
   "metadata": {
    "ExecuteTime": {
     "end_time": "2023-05-30T22:07:16.154964Z",
     "start_time": "2023-05-30T22:07:09.003242Z"
    }
   },
   "outputs": [],
   "source": [
    "aux1 = df4[['promo_time_week', 'sales']].groupby( 'promo_time_week').sum().reset_index()\n",
    "\n",
    "grid = GridSpec( 2, 3 )\n",
    "\n",
    "plt.subplot( grid[0,0] )\n",
    "aux2 = aux1[aux1['promo_time_week'] > 0] # promo extendido \n",
    "sns.barplot( x='promo_time_week', y='sales', data=aux2 ); \n",
    "plt.xticks( rotation=90 );\n",
    "\n",
    "plt.subplot( grid[0,1] )\n",
    "sns.regplot( x='promo_time_week', y='sales', data=aux2 );\n",
    "\n",
    "plt.subplot( grid[1,0] )\n",
    "aux3 = aux1[aux1['promo_time_week'] < 0] # promo regular \n",
    "sns.barplot( x='promo_time_week', y='sales', data=aux3 ); \n",
    "plt.xticks( rotation=90 );\n",
    "\n",
    "plt.subplot( grid[1,1] )\n",
    "sns.regplot( x='promo_time_week', y='sales', data=aux3 );\n",
    "\n",
    "plt.subplot( grid[:,2] )\n",
    "sns.heatmap( aux1.corr( method='pearson' ), annot=True );"
   ]
  },
  {
   "cell_type": "markdown",
   "id": "88aa8c83",
   "metadata": {},
   "source": [
    "### H5. Lojas com mais promoções consecutivas deveriam vender mais.\n",
    "- **FALSA** Lojas com mais promoções consecutivas vendem menos"
   ]
  },
  {
   "cell_type": "code",
   "execution_count": 32,
   "id": "b8e4a055",
   "metadata": {
    "ExecuteTime": {
     "end_time": "2023-05-30T22:07:16.196428Z",
     "start_time": "2023-05-30T22:07:16.156573Z"
    }
   },
   "outputs": [],
   "source": [
    "df4[['promo', 'promo2', 'sales']].groupby( ['promo', 'promo2'] ).sum().reset_index()"
   ]
  },
  {
   "cell_type": "code",
   "execution_count": 33,
   "id": "5bf91ba4",
   "metadata": {
    "ExecuteTime": {
     "end_time": "2023-05-30T22:07:16.622049Z",
     "start_time": "2023-05-30T22:07:16.198046Z"
    }
   },
   "outputs": [],
   "source": [
    "aux1 = df4[( df4['promo'] == 1 ) & ( df4['promo2'] == 1 )][['year_week','sales']].groupby( 'year_week' ).sum().reset_index()\n",
    "ax = aux1.plot()\n",
    "\n",
    "aux2 = df4[( df4['promo'] == 1 ) & ( df4['promo2'] == 0 )][['year_week','sales']].groupby( 'year_week' ).sum().reset_index()\n",
    "aux2.plot( ax=ax )\n",
    "\n",
    "ax.legend( labels=['Tradicional & Extendida', 'Extendida']);"
   ]
  },
  {
   "cell_type": "markdown",
   "id": "29fe72fd",
   "metadata": {},
   "source": [
    "### H6. Lojas abertas durante o feriado de Natal deveriam vender mais.\n",
    "- **FALSA** Lojas abertas durante o feriado do Natal vendem menos."
   ]
  },
  {
   "cell_type": "code",
   "execution_count": 34,
   "id": "6105c555",
   "metadata": {
    "ExecuteTime": {
     "end_time": "2023-05-30T22:07:17.047626Z",
     "start_time": "2023-05-30T22:07:16.623610Z"
    }
   },
   "outputs": [],
   "source": [
    "aux = df4[df4['state_holiday'] != 'regular_day']\n",
    "\n",
    "plt.subplot( 1, 2, 1 )\n",
    "aux1 = aux[['state_holiday', 'sales']].groupby( 'state_holiday' ).sum().reset_index()\n",
    "sns.barplot( x='state_holiday', y='sales', data=aux1 );\n",
    "\n",
    "plt.subplot( 1, 2, 2 )\n",
    "aux2 = aux[['year', 'state_holiday', 'sales']].groupby(['year', 'state_holiday']).sum().reset_index()\n",
    "sns.barplot( x='year', y='sales', hue='state_holiday', data=aux2 );"
   ]
  },
  {
   "cell_type": "markdown",
   "id": "0d13b222",
   "metadata": {},
   "source": [
    "### H7. Lojas deveriam vender mais ao longo dos anos.\n",
    "- **FALSA** lojas vendem menos ao longo dos anos."
   ]
  },
  {
   "cell_type": "code",
   "execution_count": 35,
   "id": "11818c6a",
   "metadata": {
    "ExecuteTime": {
     "end_time": "2023-05-30T22:07:17.851822Z",
     "start_time": "2023-05-30T22:07:17.049329Z"
    }
   },
   "outputs": [],
   "source": [
    "aux1 = df4[['year', 'sales']].groupby( 'year' ).sum().reset_index()\n",
    "\n",
    "plt.subplot( 1, 3, 1 )\n",
    "sns.barplot( x='year', y='sales', data=aux1 );\n",
    "\n",
    "plt.subplot( 1, 3, 2 )\n",
    "sns.regplot( x='year', y='sales', data=aux1 );\n",
    "\n",
    "plt.subplot( 1, 3, 3 )\n",
    "sns.heatmap( aux1.corr( method='pearson' ), annot=True );"
   ]
  },
  {
   "cell_type": "markdown",
   "id": "f3ad9841",
   "metadata": {},
   "source": [
    "### H8. Lojas deveriam vender mais no segundo semestre do ano.\n",
    "- **FALSA** Lojas vendem menos no segundo semestre do ano"
   ]
  },
  {
   "cell_type": "code",
   "execution_count": 36,
   "id": "d83d7f1e",
   "metadata": {
    "ExecuteTime": {
     "end_time": "2023-05-30T22:07:18.849506Z",
     "start_time": "2023-05-30T22:07:17.853526Z"
    }
   },
   "outputs": [],
   "source": [
    "aux1 = df4[['month', 'sales']].groupby( 'month' ).sum().reset_index()\n",
    "\n",
    "plt.subplot( 1, 3, 1 )\n",
    "sns.barplot( x='month', y='sales', data=aux1 );\n",
    "\n",
    "plt.subplot( 1, 3, 2 )\n",
    "sns.regplot( x='month', y='sales', data=aux1 );\n",
    "\n",
    "plt.subplot( 1, 3, 3 )\n",
    "sns.heatmap( aux1.corr( method='pearson' ), annot=True );"
   ]
  },
  {
   "cell_type": "markdown",
   "id": "3ffde4b6",
   "metadata": {},
   "source": [
    "### H9. Lojas deveriam vender mais depois do dia 10 de cada mês.\n",
    "- **VERDADEIRA** Lojas vendem mais depois do dia 10 de cada mês."
   ]
  },
  {
   "cell_type": "code",
   "execution_count": 37,
   "id": "a46c19d5",
   "metadata": {
    "ExecuteTime": {
     "end_time": "2023-05-30T22:07:20.087026Z",
     "start_time": "2023-05-30T22:07:18.851163Z"
    }
   },
   "outputs": [],
   "source": [
    "aux1 = df4[['day', 'sales']].groupby( 'day' ).sum().reset_index()\n",
    "\n",
    "plt.subplot( 2, 2, 1 )\n",
    "sns.barplot( x='day', y='sales', data=aux1 );\n",
    "\n",
    "plt.subplot( 2, 2, 2 )\n",
    "sns.regplot( x='day', y='sales', data=aux1 );\n",
    "\n",
    "plt.subplot( 2, 2, 3 )\n",
    "sns.heatmap( aux1.corr( method='pearson' ), annot=True );\n",
    "aux1['before_after'] = aux1['day'].apply( lambda x: 'before_10_days' if x <= 10 else 'after_10_days')\n",
    "aux2 =aux1[['before_after', 'sales']].groupby( 'before_after' ).sum().reset_index()\n",
    "\n",
    "plt.subplot( 2, 2, 4 )\n",
    "sns.barplot( x='before_after', y='sales', data=aux2 );"
   ]
  },
  {
   "cell_type": "markdown",
   "id": "71008f72",
   "metadata": {},
   "source": [
    "### H10. Lojas deveriam vender menos aos fins de semana\n",
    "**VERDADEIRA** Lojas vendem menos aos fins de semana"
   ]
  },
  {
   "cell_type": "code",
   "execution_count": 38,
   "id": "8bcf1cde",
   "metadata": {
    "ExecuteTime": {
     "end_time": "2023-05-30T22:07:20.921492Z",
     "start_time": "2023-05-30T22:07:20.088667Z"
    }
   },
   "outputs": [],
   "source": [
    "aux1 = df4[['day_of_week', 'sales']].groupby( 'day_of_week' ).sum().reset_index()\n",
    "\n",
    "plt.subplot( 1, 3, 1 )\n",
    "sns.barplot( x='day_of_week', y='sales', data=aux1 );\n",
    "\n",
    "plt.subplot( 1, 3, 2 )\n",
    "sns.regplot( x='day_of_week', y='sales', data=aux1 );\n",
    "\n",
    "plt.subplot( 1, 3, 3 )\n",
    "sns.heatmap( aux1.corr( method='pearson' ), annot=True );"
   ]
  },
  {
   "cell_type": "markdown",
   "id": "3fa96fc5",
   "metadata": {},
   "source": [
    "### H11. Lojas deveriam vender menos durante os feriados escolares. \n",
    "- **VERDADEIRA** Lojas vendem menos durante os feriados escolares, exceto os meses de Julho e Agosto."
   ]
  },
  {
   "cell_type": "code",
   "execution_count": 39,
   "id": "61d6dce2",
   "metadata": {
    "ExecuteTime": {
     "end_time": "2023-05-30T22:07:21.443014Z",
     "start_time": "2023-05-30T22:07:20.923129Z"
    }
   },
   "outputs": [],
   "source": [
    "aux1 = df4[['school_holiday', 'sales']].groupby( 'school_holiday' ).sum().reset_index()\n",
    "\n",
    "plt.subplot( 2, 1, 1 )\n",
    "sns.barplot( x='school_holiday', y='sales', data=aux1 );\n",
    "\n",
    "aux2 = df4[['month', 'school_holiday', 'sales']].groupby( ['month','school_holiday'] ).sum().reset_index()\n",
    "\n",
    "plt.subplot( 2, 1, 2 )\n",
    "sns.barplot( x='month', y='sales', hue='school_holiday', data=aux2 );"
   ]
  },
  {
   "cell_type": "markdown",
   "id": "221e1b4f",
   "metadata": {},
   "source": [
    "## 4.3 Analise Multivariada"
   ]
  },
  {
   "cell_type": "markdown",
   "id": "2bfaaa87",
   "metadata": {},
   "source": [
    "### 4.3.1 Numerical Attributes"
   ]
  },
  {
   "cell_type": "code",
   "execution_count": 40,
   "id": "374e4d6e",
   "metadata": {
    "ExecuteTime": {
     "end_time": "2023-05-30T22:07:22.912909Z",
     "start_time": "2023-05-30T22:07:21.444752Z"
    }
   },
   "outputs": [],
   "source": [
    "correlation = num_attributes.corr( method = 'pearson')\n",
    "sns.heatmap(correlation, annot=True);"
   ]
  },
  {
   "cell_type": "markdown",
   "id": "7b81c5a4",
   "metadata": {},
   "source": [
    "### 4.3.2 Categorical Attributes"
   ]
  },
  {
   "cell_type": "code",
   "execution_count": 41,
   "id": "271dd84d",
   "metadata": {
    "ExecuteTime": {
     "end_time": "2023-05-30T22:07:22.917183Z",
     "start_time": "2023-05-30T22:07:22.914474Z"
    }
   },
   "outputs": [],
   "source": [
    "# only categorical data\n",
    "#a = df4.select_dtypes( include='object' )\n",
    "\n",
    "# Calculate cramer V\n",
    "#a1 = cramer_v( a['state_holiday'], a['state_holiday'] )\n",
    "#a2 = cramer_v( a['state_holiday'], a['store_type'] )\n",
    "#a3 = cramer_v( a['state_holiday'], a['assortment'] )\n",
    "#a4 = cramer_v( a['store_type'], a['state_holiday'] )\n",
    "#a5 = cramer_v( a['store_type'], a['store_type'] )\n",
    "#a6 = cramer_v( a['store_type'], a['assortment'] )\n",
    "#a7 = cramer_v( a['assortment'], a['state_holiday'] )\n",
    "#a8 = cramer_v( a['assortment'], a['store_type'] )\n",
    "#a9 = cramer_v( a['assortment'], a['assortment'] )\n",
    "\n",
    "# Final dataset\n",
    "#d = pd.DataFrame({'state_holiday': [a1, a2, a3], 'store_type': [a4, a5, a6], 'assortment': [a7, a8, a9]})\n",
    "\n",
    "#d = d.set_index( d.columns )\n",
    "\n",
    "#sns.heatmap( d, annot=True )"
   ]
  },
  {
   "cell_type": "markdown",
   "id": "497dcafa",
   "metadata": {},
   "source": [
    "# 5.0 Preparação dos Dados"
   ]
  },
  {
   "cell_type": "code",
   "execution_count": 42,
   "id": "f18dbcc4",
   "metadata": {
    "ExecuteTime": {
     "end_time": "2023-05-30T22:07:22.936227Z",
     "start_time": "2023-05-30T22:07:22.918701Z"
    }
   },
   "outputs": [],
   "source": [
    "df5 = df4.copy()"
   ]
  },
  {
   "cell_type": "markdown",
   "id": "4b2a5e95",
   "metadata": {},
   "source": [
    "## 5.1 Normalização"
   ]
  },
  {
   "cell_type": "code",
   "execution_count": 43,
   "id": "0a7ea69e",
   "metadata": {
    "ExecuteTime": {
     "end_time": "2023-05-30T22:07:22.950264Z",
     "start_time": "2023-05-30T22:07:22.937672Z"
    }
   },
   "outputs": [],
   "source": [
    "Image('img/normalizacao.png')"
   ]
  },
  {
   "cell_type": "markdown",
   "id": "8a4a35b5",
   "metadata": {},
   "source": [
    "## 5.2 Rescaling"
   ]
  },
  {
   "cell_type": "code",
   "execution_count": 44,
   "id": "14bcda69",
   "metadata": {
    "ExecuteTime": {
     "end_time": "2023-05-30T22:07:23.029943Z",
     "start_time": "2023-05-30T22:07:22.951774Z"
    }
   },
   "outputs": [],
   "source": [
    "rs = RobustScaler()\n",
    "mms = MinMaxScaler()\n",
    "\n",
    "# competition distance\n",
    "df5['competition_distance'] = rs.fit_transform( df5[['competition_distance']].values)\n",
    "\n",
    "# competition time month\n",
    "df5['competition_time_month'] = rs.fit_transform(df5[['competition_time_month']].values)\n",
    "\n",
    "# promo time week\n",
    "df5['promo_time_week'] = mms.fit_transform( df5[['promo_time_week']].values)\n",
    "\n",
    "# year\n",
    "df5['year'] = mms.fit_transform( df5[['year']].values)"
   ]
  },
  {
   "cell_type": "markdown",
   "id": "348c7522",
   "metadata": {
    "ExecuteTime": {
     "end_time": "2023-05-30T20:59:31.524190Z",
     "start_time": "2023-05-30T20:59:31.516630Z"
    }
   },
   "source": [
    "## 5.3 Transformação"
   ]
  },
  {
   "cell_type": "markdown",
   "id": "d37b204d",
   "metadata": {
    "ExecuteTime": {
     "end_time": "2023-05-30T20:59:54.649585Z",
     "start_time": "2023-05-30T20:59:54.644022Z"
    }
   },
   "source": [
    "### 5.3.1 Encoding"
   ]
  },
  {
   "cell_type": "code",
   "execution_count": 45,
   "id": "fae58fa9",
   "metadata": {
    "ExecuteTime": {
     "end_time": "2023-05-30T22:07:23.298698Z",
     "start_time": "2023-05-30T22:07:23.031588Z"
    }
   },
   "outputs": [],
   "source": [
    "# state holiday - One Hot Encoding\n",
    "pd.get_dummies (df5, prefix=['state_holiday'], columns=['state_holiday'])\n",
    "\n",
    "# store_type - Label Encoding\n",
    "le = LabelEncoder()\n",
    "df5['store_type'] = le.fit_transform(df5['store_type'])\n",
    "\n",
    "# assortment - Ordinal Encoding\n",
    "assortment_dict = {'basic': 1,  'extra': 2, 'extended': 3}\n",
    "df5['assortment'] = df5['assortment'].map( assortment_dict )"
   ]
  },
  {
   "cell_type": "markdown",
   "id": "71117ffb",
   "metadata": {},
   "source": [
    "### 5.3.2 Response Variable"
   ]
  },
  {
   "cell_type": "code",
   "execution_count": 46,
   "id": "92171be1",
   "metadata": {
    "ExecuteTime": {
     "end_time": "2023-05-30T22:07:23.311892Z",
     "start_time": "2023-05-30T22:07:23.300237Z"
    }
   },
   "outputs": [],
   "source": [
    "df5['sales'] = np.log1p (df5['sales'])"
   ]
  },
  {
   "cell_type": "markdown",
   "id": "04b29575",
   "metadata": {},
   "source": [
    "### 5.3.3 Nature Transformation"
   ]
  },
  {
   "cell_type": "code",
   "execution_count": 47,
   "id": "0d2a0964",
   "metadata": {
    "ExecuteTime": {
     "end_time": "2023-05-30T22:07:34.203999Z",
     "start_time": "2023-05-30T22:07:23.313327Z"
    }
   },
   "outputs": [],
   "source": [
    "# day of week\n",
    "df5['day_of_week_sin'] = df5['day_of_week'].apply( lambda x: np.sin( x * ( 2. * np.pi/7 ) ) )\n",
    "df5['day_of_week_cos'] = df5['day_of_week'].apply( lambda x: np.cos( x * ( 2. * np.pi/7 ) ) )\n",
    "\n",
    "# month\n",
    "df5['month_sin'] = df5['month'].apply( lambda x: np.sin( x * ( 2. * np.pi/12 ) ) )\n",
    "df5['month_cos'] = df5['month'].apply( lambda x: np.cos( x * ( 2. * np.pi/12 ) ) )\n",
    "\n",
    "# day\n",
    "df5['day_sin'] = df5['day'].apply( lambda x: np.sin( x * ( 2. * np.pi/30 ) ) ) \n",
    "df5['day_cos'] = df5['day'].apply( lambda x: np.cos( x * ( 2. * np.pi/30 ) ) )\n",
    "\n",
    "# week of year\n",
    "df5['week_of_year_sin'] = df5['week_of_year'].apply( lambda x: np.sin( x * ( 2. * np.pi/52 ) ) )\n",
    "df5['week_of_year_cos'] = df5['week_of_year'].apply( lambda x: np.cos( x * ( 2. * np.pi/52 ) ) )"
   ]
  },
  {
   "cell_type": "code",
   "execution_count": null,
   "id": "1650bf5d",
   "metadata": {},
   "outputs": [],
   "source": []
  },
  {
   "cell_type": "code",
   "execution_count": null,
   "id": "622a3788",
   "metadata": {},
   "outputs": [],
   "source": []
  },
  {
   "cell_type": "code",
   "execution_count": null,
   "id": "e622fe7e",
   "metadata": {},
   "outputs": [],
   "source": []
  },
  {
   "cell_type": "code",
   "execution_count": null,
   "id": "495304e9",
   "metadata": {},
   "outputs": [],
   "source": []
  },
  {
   "cell_type": "code",
   "execution_count": null,
   "id": "b3ff21d6",
   "metadata": {},
   "outputs": [],
   "source": []
  },
  {
   "cell_type": "code",
   "execution_count": null,
   "id": "8464c002",
   "metadata": {},
   "outputs": [],
   "source": []
  }
 ],
 "metadata": {
  "kernelspec": {
   "display_name": "Python 3 (ipykernel)",
   "language": "python",
   "name": "python3"
  },
  "language_info": {
   "codemirror_mode": {
    "name": "ipython",
    "version": 3
   },
   "file_extension": ".py",
   "mimetype": "text/x-python",
   "name": "python",
   "nbconvert_exporter": "python",
   "pygments_lexer": "ipython3",
   "version": "3.10.9"
  },
  "varInspector": {
   "cols": {
    "lenName": 16,
    "lenType": 16,
    "lenVar": 40
   },
   "kernels_config": {
    "python": {
     "delete_cmd_postfix": "",
     "delete_cmd_prefix": "del ",
     "library": "var_list.py",
     "varRefreshCmd": "print(var_dic_list())"
    },
    "r": {
     "delete_cmd_postfix": ") ",
     "delete_cmd_prefix": "rm(",
     "library": "var_list.r",
     "varRefreshCmd": "cat(var_dic_list()) "
    }
   },
   "types_to_exclude": [
    "module",
    "function",
    "builtin_function_or_method",
    "instance",
    "_Feature"
   ],
   "window_display": false
  }
 },
 "nbformat": 4,
 "nbformat_minor": 5
}
